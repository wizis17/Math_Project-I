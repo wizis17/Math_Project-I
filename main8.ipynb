{
 "cells": [
  {
   "cell_type": "markdown",
   "metadata": {},
   "source": [
    "Solving linear equations least squares problem"
   ]
  },
  {
   "cell_type": "markdown",
   "metadata": {},
   "source": [
    "# Ax = b "
   ]
  },
  {
   "cell_type": "markdown",
   "metadata": {},
   "source": [
    "Overdetermined vs. Underdetermined Systems"
   ]
  },
  {
   "cell_type": "markdown",
   "metadata": {},
   "source": [
    "Overdetermined System (More Equations than Unknowns)\n",
    "Condition: \n",
    "\n",
    "m > n (more rows than columns)\n",
    "\n",
    "    2x+y = 5\n",
    "    x−y = 1 \n",
    "    x+2y = 4    => x , y ?\n",
    "​\n",
    "\n",
    "Usually, there is no exact solution because the system is inconsistent (too many constraints)."
   ]
  },
  {
   "cell_type": "markdown",
   "metadata": {},
   "source": [
    "Underdetermined System (More Unknowns than Equations)\n",
    "\n",
    "Condition: \n",
    "\n",
    "m < n (more columns than rows)\n",
    "\n",
    "    x + y + z = 1 \n",
    "    x - y = 2       => x , y, z ?\n",
    "\n",
    "    This system has infinitely many solutions because there aren't enough constraints.\n",
    "\n",
    "\n",
    "Compute the Minimal-Norm Solution Using SVD (x_min)"
   ]
  },
  {
   "cell_type": "markdown",
   "metadata": {},
   "source": [
    "Solve the overdetermined system: Ax=b \n",
    "\n",
    "\n"
   ]
  },
  {
   "cell_type": "code",
   "execution_count": 19,
   "metadata": {},
   "outputs": [
    {
     "name": "stdout",
     "output_type": "stream",
     "text": [
      "Matrix A : \n",
      "[[1.400e+03 3.000e+00 1.000e+00 1.000e+00]\n",
      " [1.600e+03 3.000e+00 1.000e+00 1.000e+00]\n",
      " [1.700e+03 3.000e+00 1.000e+00 1.000e+00]\n",
      " [1.875e+03 4.000e+00 1.000e+00 1.000e+00]\n",
      " [1.100e+03 2.000e+00 1.000e+00 1.000e+00]]\n",
      "Vector b : [245 312 279 308 199]\n"
     ]
    }
   ],
   "source": [
    "import numpy as np\n",
    "import matplotlib.pyplot as plt\n",
    "\n",
    "# Example: Predicting house prices based on size and number of bedrooms\n",
    "# Data: [Size (sq ft), Number of Bedrooms]\n",
    "A = np.array([[1400, 3],\n",
    "              [1600, 3],\n",
    "              [1700, 3],\n",
    "              [1875, 4],\n",
    "              [1100, 2]])\n",
    "\n",
    "# Prices (target values in $1000s)\n",
    "b = np.array([245, 312, 279, 308, 199])\n",
    "\n",
    "\n",
    "print('Matrix A : ')\n",
    "\n",
    "print(A)\n",
    "\n",
    "print(f'Vector b : {b}')\n",
    "\n"
   ]
  },
  {
   "cell_type": "markdown",
   "metadata": {},
   "source": [
    "find a least squares solution using SVD "
   ]
  },
  {
   "cell_type": "markdown",
   "metadata": {},
   "source": [
    "# A=UΣV^T\n",
    "\n"
   ]
  },
  {
   "cell_type": "markdown",
   "metadata": {},
   "source": [
    "Where U and V are orthogonal matrices , Σ is a diagonal matrix."
   ]
  },
  {
   "cell_type": "markdown",
   "metadata": {},
   "source": [
    "Compute the pseudoinverse A+ :\n",
    "𝐴+ = VΣ+U^T\n",
    " \n",
    "\n",
    "Σ+  is the inverse of nonzero singular values.\n",
    "\n",
    "x = A+ b "
   ]
  },
  {
   "cell_type": "code",
   "execution_count": 23,
   "metadata": {},
   "outputs": [
    {
     "name": "stdout",
     "output_type": "stream",
     "text": [
      "Solution x: [ 1.68996540e-01 -1.34933541e+01  3.34444392e+16 -3.34444392e+16]\n",
      "\n"
     ]
    },
    {
     "ename": "ValueError",
     "evalue": "matmul: Input operand 1 has a mismatch in its core dimension 0, with gufunc signature (n?,k),(k,m?)->(n?,m?) (size 4 is different from 3)",
     "output_type": "error",
     "traceback": [
      "\u001b[1;31m---------------------------------------------------------------------------\u001b[0m",
      "\u001b[1;31mValueError\u001b[0m                                Traceback (most recent call last)",
      "Cell \u001b[1;32mIn[23], line 16\u001b[0m\n\u001b[0;32m     14\u001b[0m \u001b[38;5;66;03m# Predict price of a new house (e.g., 1500 sq ft, 3 bedrooms)\u001b[39;00m\n\u001b[0;32m     15\u001b[0m new_house \u001b[38;5;241m=\u001b[39m np\u001b[38;5;241m.\u001b[39marray([\u001b[38;5;241m1500\u001b[39m, \u001b[38;5;241m3\u001b[39m, \u001b[38;5;241m1\u001b[39m])  \u001b[38;5;66;03m# Include intercept term\u001b[39;00m\n\u001b[1;32m---> 16\u001b[0m predicted_price \u001b[38;5;241m=\u001b[39m \u001b[43mnew_house\u001b[49m\u001b[43m \u001b[49m\u001b[38;5;241;43m@\u001b[39;49m\u001b[43m \u001b[49m\u001b[43mx\u001b[49m\n\u001b[0;32m     17\u001b[0m \u001b[38;5;28mprint\u001b[39m(\u001b[38;5;124mf\u001b[39m\u001b[38;5;124m\"\u001b[39m\u001b[38;5;124mPredicted price for a 1500 sq ft house with 3 bedrooms: $\u001b[39m\u001b[38;5;132;01m{\u001b[39;00mpredicted_price\u001b[38;5;250m \u001b[39m\u001b[38;5;241m*\u001b[39m\u001b[38;5;250m \u001b[39m\u001b[38;5;241m1000\u001b[39m\u001b[38;5;132;01m:\u001b[39;00m\u001b[38;5;124m.2f\u001b[39m\u001b[38;5;132;01m}\u001b[39;00m\u001b[38;5;124m\"\u001b[39m)\n\u001b[0;32m     19\u001b[0m \u001b[38;5;66;03m# Plot best fit line\u001b[39;00m\n",
      "\u001b[1;31mValueError\u001b[0m: matmul: Input operand 1 has a mismatch in its core dimension 0, with gufunc signature (n?,k),(k,m?)->(n?,m?) (size 4 is different from 3)"
     ]
    }
   ],
   "source": [
    "# Compute SVD\n",
    "U, S, Vt = np.linalg.svd(A, full_matrices=False)\n",
    "\n",
    "# Compute pseudo-inverse of A\n",
    "S_inv = np.diag(1 / S)\n",
    "A_pseudo = Vt.T @ S_inv @ U.T\n",
    "\n",
    "# Compute least squares solution \n",
    "x = A_pseudo @ b\n",
    "\n",
    "print(\"Solution x:\", x)\n",
    "print()\n",
    "\n",
    "# Predict price of a new house (e.g., 1500 sq ft, 3 bedrooms)\n",
    "new_house = np.array([1500, 3, 1])  # Include intercept term\n",
    "predicted_price = new_house @ x\n",
    "print(f\"Predicted price for a 1500 sq ft house with 3 bedrooms: ${predicted_price * 1000:.2f}\")\n",
    "\n",
    "# Plot best fit line\n",
    "plt.scatter(X[:, 0], y, color='blue', label='Data')\n",
    "x_vals = np.linspace(min(X[:, 0]), max(X[:, 0]), 100)\n",
    "y_vals = w[0] * x_vals + w[1] * np.mean(X[:, 1]) + w[2]\n",
    "plt.plot(x_vals, y_vals, color='red', label='Best Fit Line')\n",
    "plt.xlabel('Size (sq ft)')\n",
    "plt.ylabel('Price ($1000s)')\n",
    "plt.title('Best Fit Line for House Prices')\n",
    "plt.legend()\n",
    "plt.show()"
   ]
  },
  {
   "cell_type": "markdown",
   "metadata": {},
   "source": [
    "What can we do with x ? "
   ]
  },
  {
   "cell_type": "markdown",
   "metadata": {},
   "source": [
    "1. Use the fitted line equation to predict new values.\n",
    "2. Visualize the fitted model along with the new predictions on the graph."
   ]
  },
  {
   "cell_type": "code",
   "execution_count": 17,
   "metadata": {},
   "outputs": [
    {
     "ename": "IndexError",
     "evalue": "index 2 is out of bounds for axis 0 with size 2",
     "output_type": "error",
     "traceback": [
      "\u001b[1;31m---------------------------------------------------------------------------\u001b[0m",
      "\u001b[1;31mIndexError\u001b[0m                                Traceback (most recent call last)",
      "Cell \u001b[1;32mIn[17], line 4\u001b[0m\n\u001b[0;32m      2\u001b[0m plt\u001b[38;5;241m.\u001b[39mscatter(X[:, \u001b[38;5;241m0\u001b[39m], y, color\u001b[38;5;241m=\u001b[39m\u001b[38;5;124m'\u001b[39m\u001b[38;5;124mblue\u001b[39m\u001b[38;5;124m'\u001b[39m, label\u001b[38;5;241m=\u001b[39m\u001b[38;5;124m'\u001b[39m\u001b[38;5;124mData\u001b[39m\u001b[38;5;124m'\u001b[39m)\n\u001b[0;32m      3\u001b[0m A_vals \u001b[38;5;241m=\u001b[39m np\u001b[38;5;241m.\u001b[39mlinspace(\u001b[38;5;28mmin\u001b[39m(A[:, \u001b[38;5;241m0\u001b[39m]), \u001b[38;5;28mmax\u001b[39m(A[:, \u001b[38;5;241m0\u001b[39m]), \u001b[38;5;241m100\u001b[39m)\n\u001b[1;32m----> 4\u001b[0m b_vals \u001b[38;5;241m=\u001b[39m x[\u001b[38;5;241m0\u001b[39m] \u001b[38;5;241m*\u001b[39m A_vals \u001b[38;5;241m+\u001b[39m x[\u001b[38;5;241m1\u001b[39m] \u001b[38;5;241m*\u001b[39m np\u001b[38;5;241m.\u001b[39mmean(A[:, \u001b[38;5;241m1\u001b[39m]) \u001b[38;5;241m+\u001b[39m \u001b[43mx\u001b[49m\u001b[43m[\u001b[49m\u001b[38;5;241;43m2\u001b[39;49m\u001b[43m]\u001b[49m\n\u001b[0;32m      5\u001b[0m plt\u001b[38;5;241m.\u001b[39mplot(A_vals, b_vals, color\u001b[38;5;241m=\u001b[39m\u001b[38;5;124m'\u001b[39m\u001b[38;5;124mred\u001b[39m\u001b[38;5;124m'\u001b[39m, label\u001b[38;5;241m=\u001b[39m\u001b[38;5;124m'\u001b[39m\u001b[38;5;124mBest Fit Line\u001b[39m\u001b[38;5;124m'\u001b[39m)\n\u001b[0;32m      6\u001b[0m plt\u001b[38;5;241m.\u001b[39mxlabel(\u001b[38;5;124m'\u001b[39m\u001b[38;5;124mSize (sq ft)\u001b[39m\u001b[38;5;124m'\u001b[39m)\n",
      "\u001b[1;31mIndexError\u001b[0m: index 2 is out of bounds for axis 0 with size 2"
     ]
    },
    {
     "data": {
      "image/png": "[encoded data removed]",
      "text/plain": [
       "<Figure size 640x480 with 1 Axes>"
      ]
     },
     "metadata": {},
     "output_type": "display_data"
    }
   ],
   "source": [
    "\n",
    "# Plot best fit line\n",
    "plt.scatter(X[:, 0], y, color='blue', label='Data')\n",
    "A_vals = np.linspace(min(A[:, 0]), max(A[:, 0]), 100)\n",
    "b_vals = x[0] * A_vals + x[1] * np.mean(A[:, 1]) + x[2]\n",
    "plt.plot(A_vals, b_vals, color='red', label='Best Fit Line')\n",
    "plt.xlabel('Size (sq ft)')\n",
    "plt.ylabel('Price ($1000s)')\n",
    "plt.title('Best Fit Line for House Prices')\n",
    "plt.legend()\n",
    "plt.show()\n",
    "\n"
   ]
  },
  {
   "cell_type": "code",
   "execution_count": 5,
   "metadata": {},
   "outputs": [
    {
     "name": "stdout",
     "output_type": "stream",
     "text": [
      "Least squares solution: [1.5 0.5]\n",
      "Residual vector: [ 4.5  1.5 -1.5]\n",
      "Residual norm (error magnitude): 4.9749371855331\n"
     ]
    },
    {
     "data": {
      "image/png": "[encoded data removed]",
      "text/plain": [
       "<Figure size 700x500 with 1 Axes>"
      ]
     },
     "metadata": {},
     "output_type": "display_data"
    }
   ],
   "source": [
    "# Compute residuals\n",
    "residuals = b - A @ x\n",
    "residual_norm = np.linalg.norm(residuals)\n",
    "print(\"Least squares solution:\", x)\n",
    "print(\"Residual vector:\", residuals)\n",
    "print(\"Residual norm (error magnitude):\", residual_norm)\n",
    "\n",
    "\n",
    "# Compute predicted values\n",
    "predicted_values = A @ x\n",
    "\n",
    "# Plot residuals\n",
    "plt.figure(figsize=(7, 5))\n",
    "plt.scatter(predicted_values, residuals, color='blue', label='Residuals')\n",
    "plt.axhline(y=0, color='red', linestyle='--', label='Zero residual')\n",
    "plt.xlabel('Predicted Values (Ax)')\n",
    "plt.ylabel('Residuals (b - Ax)')\n",
    "plt.title('Residual Plot')\n",
    "plt.legend()\n",
    "plt.grid(True)\n",
    "plt.show()"
   ]
  }
 ],
 "metadata": {
  "kernelspec": {
   "display_name": "SVD_env",
   "language": "python",
   "name": "python3"
  },
  "language_info": {
   "codemirror_mode": {
    "name": "ipython",
    "version": 3
   },
   "file_extension": ".py",
   "mimetype": "text/x-python",
   "name": "python",
   "nbconvert_exporter": "python",
   "pygments_lexer": "ipython3",
   "version": "3.13.1"
  }
 },
 "nbformat": 4,
 "nbformat_minor": 2
}
