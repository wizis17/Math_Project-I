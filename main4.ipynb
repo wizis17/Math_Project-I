{
 "cells": [
  {
   "cell_type": "markdown",
   "metadata": {},
   "source": [
    "Apply Singular Value Decomposition (SVD) for Latent Semantic Analysis (LSA)"
   ]
  },
  {
   "cell_type": "markdown",
   "metadata": {},
   "source": [
    "1. Create a Term-Document Matrix using TF-IDF or CountVectorizer.\n",
    "2. Apply SVD to reduce dimensions and extract latent topics.\n",
    "3. Analyze topics by examining word contributions."
   ]
  },
  {
   "cell_type": "code",
   "execution_count": 4,
   "metadata": {},
   "outputs": [],
   "source": [
    "import numpy as np\n",
    "import pandas as pd\n",
    "from sklearn.feature_extraction.text import TfidfVectorizer\n",
    "from sklearn.decomposition import TruncatedSVD\n",
    "\n",
    "\n",
    "documents = [\n",
    "    \"LSA is a technique in natural language processing.\",\n",
    "    \"Singular value decomposition is used in LSA \",\n",
    "    \"Topic modeling extracts latent topics from text.\",\n",
    "    \"Natural language processing involves machine learning.\"\n",
    "]"
   ]
  },
  {
   "cell_type": "markdown",
   "metadata": {},
   "source": [
    "step 1 : Convert text to a TF-IDF matrix \n"
   ]
  },
  {
   "cell_type": "code",
   "execution_count": 5,
   "metadata": {},
   "outputs": [],
   "source": [
    "vectorizer = TfidfVectorizer(stop_words = 'english' )\n",
    "X = vectorizer.fit_transform(documents)\n"
   ]
  },
  {
   "cell_type": "markdown",
   "metadata": {},
   "source": [
    "step 2 : Apply SVD to reduce dimensionality reduction (LSA)"
   ]
  },
  {
   "cell_type": "code",
   "execution_count": 6,
   "metadata": {},
   "outputs": [],
   "source": [
    "num_topics = 2 # number of latent topics\n",
    "svd = TruncatedSVD(n_components = num_topics)\n",
    "X_svd = svd.fit_transform(X)"
   ]
  },
  {
   "cell_type": "markdown",
   "metadata": {},
   "source": [
    "Step 3: Display top words in each topic"
   ]
  },
  {
   "cell_type": "code",
   "execution_count": 10,
   "metadata": {},
   "outputs": [
    {
     "name": "stdout",
     "output_type": "stream",
     "text": [
      "Topic 1 : technique,lsa,language,natural,processing\n",
      "---\n",
      "Topic 2 : text,modeling,latent,topics,topic\n",
      "---\n",
      "\n",
      "Document Topic Matrix : \n",
      "        Topic 1       Topic 2\n",
      "0  8.598110e-01  2.081668e-17\n",
      "1  2.782269e-01 -5.677183e-01\n",
      "2 -4.768412e-17  8.000000e-01\n",
      "3  8.135507e-01  1.941544e-01\n"
     ]
    }
   ],
   "source": [
    "terms = vectorizer.get_feature_names_out()\n",
    "for i, comp in enumerate(svd.components_):\n",
    "    terms_in_topic = [terms[j] for j in np.argsort(comp)[-5:]] # top 5 words\n",
    "    print(f'Topic {i+1} : {','.join(terms_in_topic)}')\n",
    "    print('---')\n",
    "print()\n",
    "\n",
    "# Display transformed document-topic matrix \n",
    "df = pd.DataFrame(X_svd, columns = [f'Topic {i+1}' for i in range(num_topics)])\n",
    "print('Document Topic Matrix : ')\n",
    "print(df)"
   ]
  }
 ],
 "metadata": {
  "kernelspec": {
   "display_name": "SVD_env",
   "language": "python",
   "name": "python3"
  },
  "language_info": {
   "codemirror_mode": {
    "name": "ipython",
    "version": 3
   },
   "file_extension": ".py",
   "mimetype": "text/x-python",
   "name": "python",
   "nbconvert_exporter": "python",
   "pygments_lexer": "ipython3",
   "version": "3.13.1"
  }
 },
 "nbformat": 4,
 "nbformat_minor": 2
}
