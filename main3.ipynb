{
 "cells": [
  {
   "cell_type": "markdown",
   "metadata": {},
   "source": [
    "Recommend system (By Rating Movies)"
   ]
  },
  {
   "cell_type": "code",
   "execution_count": 23,
   "metadata": {},
   "outputs": [],
   "source": [
    "import numpy as np\n",
    "import pandas as pd\n",
    "from scipy.linalg import svd\n",
    "\n",
    "# simulated Neflix-style ration matrix\n",
    "ratings_matrix = np.array([\n",
    "    [5, 4, 2, 1, 3],\n",
    "    [3, 2, 1, 2, 4],\n",
    "    [1, 3, 4, 2, 2],\n",
    "    [2, 5, 4, 3, 1],\n",
    "    [2, 1, 1, 4, 5]\n",
    "])"
   ]
  },
  {
   "cell_type": "code",
   "execution_count": 24,
   "metadata": {},
   "outputs": [
    {
     "name": "stdout",
     "output_type": "stream",
     "text": [
      "Original Ratings Matrix:\n",
      "            The Batman  Inception  Catch Me If You Can  oppenheimer  transformers\n",
      "person1          5          4               2                1             3     \n",
      "person2          3          2               1                2             4     \n",
      "person3          1          3               4                2             2     \n",
      "person4          2          5               4                3             1     \n",
      "person5          2          1               1                4             5     \n"
     ]
    }
   ],
   "source": [
    "movies = ['The Batman','Inception','Catch Me If You Can','oppenheimer','transformers']\n",
    "persons = ['person1','person2','person3','person4','person5']\n",
    "\n",
    "# SVD methods\n",
    "U, S, Vt = svd(ratings_matrix, full_matrices=False)\n",
    "\n",
    "# convert S to diagonal \n",
    "S_diag = np.diag(S)\n",
    "\n",
    "# Choose top-k singular values to reconstruct matrix (low-rank approximation)\n",
    "k = 5 # Retain top-2 features\n",
    "approx_ratings = U[:, :k] @ S_diag[:k, :k] @ Vt[:k, :]\n",
    "\n",
    "approx_ratings = np.clip(approx_ratings, 1, 5) # set min 1 - 5 \n",
    "\n",
    "# convert to dataframe\n",
    "df_original = pd.DataFrame(ratings_matrix, index = persons, columns = movies)\n",
    "df_approx = pd.DataFrame(np.round(approx_ratings, 2), index = persons, columns= movies)\n",
    "\n",
    "print('Original Ratings Matrix:')\n",
    "\n",
    "print(df_original.to_string(index = True , col_space = 10, justify='center'))\n",
    "\n"
   ]
  },
  {
   "cell_type": "code",
   "execution_count": 25,
   "metadata": {},
   "outputs": [
    {
     "name": "stdout",
     "output_type": "stream",
     "text": [
      "Predicted Rating Matrix (after apply SVD, k = 2) : \n",
      "            The Batman  Inception  Catch Me If You Can  oppenheimer  transformers\n",
      "person1         5.0        4.0             2.0              1.0           3.0    \n",
      "person2         3.0        2.0             1.0              2.0           4.0    \n",
      "person3         1.0        3.0             4.0              2.0           2.0    \n",
      "person4         2.0        5.0             4.0              3.0           1.0    \n",
      "person5         2.0        1.0             1.0              4.0           5.0    \n"
     ]
    }
   ],
   "source": [
    "print('Predicted Rating Matrix (after apply SVD, k = 2) : ')\n",
    "print(df_approx.to_string(index = True, col_space = 10, justify='center'))"
   ]
  },
  {
   "cell_type": "code",
   "execution_count": 26,
   "metadata": {},
   "outputs": [
    {
     "name": "stdout",
     "output_type": "stream",
     "text": [
      "Recommended Rating Matrix (missing values):\n",
      "            The Batman  Inception  Catch Me If You Can  oppenheimer  transformers\n",
      "person1         5.0        4.0             2.0              1.0           3.0    \n",
      "person2         3.0        2.0             1.0              2.0           4.0    \n",
      "person3         1.0        3.0             4.0              2.0           2.0    \n",
      "person4         2.0        5.0             4.0              3.0           1.0    \n",
      "person5         2.0        1.0             1.0              4.0           5.0    \n"
     ]
    }
   ],
   "source": [
    "# recommend movies by filling missing values\n",
    "recommend_ratings = np.where(ratings_matrix == 0, np.round(approx_ratings, 2), ratings_matrix)\n",
    "\n",
    "df_recommend = pd.DataFrame(recommend_ratings, index = persons, columns = movies)\n",
    "\n",
    "print('Recommended Rating Matrix (missing values):')\n",
    "print(df_recommend.to_string(index = True, col_space = 10, justify='center'))"
   ]
  },
  {
   "cell_type": "code",
   "execution_count": 28,
   "metadata": {},
   "outputs": [
    {
     "name": "stdout",
     "output_type": "stream",
     "text": [
      "For person1, Recommendations: \n",
      "The Batman             5.0\n",
      "Inception              4.0\n",
      "transformers           3.0\n",
      "Catch Me If You Can    2.0\n",
      "oppenheimer            1.0\n",
      "For person2, Recommendations: \n",
      "transformers           4.0\n",
      "The Batman             3.0\n",
      "Inception              2.0\n",
      "oppenheimer            2.0\n",
      "Catch Me If You Can    1.0\n",
      "For person3, Recommendations: \n",
      "Catch Me If You Can    4.0\n",
      "Inception              3.0\n",
      "oppenheimer            2.0\n",
      "transformers           2.0\n",
      "The Batman             1.0\n",
      "For person4, Recommendations: \n",
      "Inception              5.0\n",
      "Catch Me If You Can    4.0\n",
      "oppenheimer            3.0\n",
      "The Batman             2.0\n",
      "transformers           1.0\n",
      "For person5, Recommendations: \n",
      "transformers           5.0\n",
      "oppenheimer            4.0\n",
      "The Batman             2.0\n",
      "Catch Me If You Can    1.0\n",
      "Inception              1.0\n"
     ]
    }
   ],
   "source": [
    "for i , person in enumerate(persons):\n",
    "    recommend_movies = pd.Series(df_recommend.iloc[i], index = movies )\n",
    "    recommend_movies = recommend_movies.sort_values(ascending=False)\n",
    "\n",
    "    print(f'For {person}, Recommendations: ')\n",
    "    print(recommend_movies.to_string(header=False))"
   ]
  }
 ],
 "metadata": {
  "kernelspec": {
   "display_name": "SVD_env",
   "language": "python",
   "name": "python3"
  },
  "language_info": {
   "codemirror_mode": {
    "name": "ipython",
    "version": 3
   },
   "file_extension": ".py",
   "mimetype": "text/x-python",
   "name": "python",
   "nbconvert_exporter": "python",
   "pygments_lexer": "ipython3",
   "version": "3.13.1"
  }
 },
 "nbformat": 4,
 "nbformat_minor": 2
}
